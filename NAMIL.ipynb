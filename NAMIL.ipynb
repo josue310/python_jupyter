{
 "cells": [
  {
   "cell_type": "code",
   "execution_count": 7,
   "id": "9b63e5e8-2e0c-46a5-be9d-6d53cab73678",
   "metadata": {},
   "outputs": [
    {
     "data": {
      "text/plain": [
       "6"
      ]
     },
     "execution_count": 7,
     "metadata": {},
     "output_type": "execute_result"
    }
   ],
   "source": [
    "# Page 79\n",
    "def factorielle(nb) -> int:\n",
    "    if nb == 1: \n",
    "        return 1\n",
    "    else:\n",
    "        return nb * factorielle(nb - 1)\n",
    "factorielle(3)\n"
   ]
  },
  {
   "cell_type": "code",
   "execution_count": 6,
   "id": "2fb5a34d-c1a8-43a4-92aa-7c3a7c1d60f8",
   "metadata": {},
   "outputs": [
    {
     "name": "stdout",
     "output_type": "stream",
     "text": [
      "2\n"
     ]
    }
   ],
   "source": [
    "# Page 82\n",
    "def chercher(t: list[int], taille: int, valeur: int, debut: int) -> int:\n",
    "    if debut >= taille:\n",
    "        return -1\n",
    "    if t[debut] == valeur:\n",
    "        return debut\n",
    "    return chercher(t, taille, valeur, debut + 1)\n",
    "\n",
    "tab = [3, 5, 7, 9, 11]\n",
    "val = 7\n",
    "\n",
    "indice = chercher(tab, len(tab), val, 0)\n",
    "print(indice)  # Affiche 2, car la valeur 7 correspond à l'indice 2 dans le tableau"
   ]
  },
  {
   "cell_type": "code",
   "execution_count": 5,
   "id": "97134615-d960-4685-829e-0679022348a4",
   "metadata": {},
   "outputs": [
    {
     "data": {
      "text/plain": [
       "5"
      ]
     },
     "execution_count": 5,
     "metadata": {},
     "output_type": "execute_result"
    }
   ],
   "source": [
    "# Page 83\n",
    "def fibonacci(n: int) -> int:\n",
    "    if n == 0:  \n",
    "        return 0\n",
    "    elif n == 1: \n",
    "        return 1\n",
    "    else:  \n",
    "        return fibonacci(n - 1) + fibonacci(n - 2)\n",
    "\n",
    "fibonacci(5)\n"
   ]
  },
  {
   "cell_type": "code",
   "execution_count": 4,
   "id": "e74c75af-dbd8-4ffa-9893-3182b9fc216a",
   "metadata": {},
   "outputs": [
    {
     "name": "stdout",
     "output_type": "stream",
     "text": [
      "5\n"
     ]
    }
   ],
   "source": [
    "# Page 84\n",
    "\"\"\"\n",
    "EXERCICE N°1\n",
    "Ecrire une fonction qui retourne le plus grand de deux entiers passés en\n",
    "paramètres. Même exercice avec trois entiers.\n",
    "\"\"\"\n",
    "\n",
    "def max2(a: int, b: int) -> int:\n",
    "    if a > b:\n",
    "        return a\n",
    "    else:\n",
    "        return b\n",
    "print(max2(2,5))"
   ]
  },
  {
   "cell_type": "code",
   "execution_count": 5,
   "id": "d2a44241-d3a6-47f2-be54-84c19ab28f6b",
   "metadata": {},
   "outputs": [
    {
     "name": "stdout",
     "output_type": "stream",
     "text": [
      "0\n"
     ]
    }
   ],
   "source": [
    "# Avec trois entiers\n",
    "def max3(a: int, b: int, c: int) -> int:\n",
    "    return max2(max2(a, b), c)  \n",
    "    \n",
    "print(max3(-2,-5,0))"
   ]
  },
  {
   "cell_type": "code",
   "execution_count": 2,
   "id": "27934552-d314-4ff0-b631-3e9ca37f053b",
   "metadata": {},
   "outputs": [
    {
     "name": "stdout",
     "output_type": "stream",
     "text": [
      "Tableau à l'envers :\n",
      "5 4 3 2 1 "
     ]
    }
   ],
   "source": [
    "# Page 84\n",
    "\"\"\"\n",
    "Ecrire une fonction qui affiche un tableau à l’envers par une méthode itérative et\n",
    "récursive. Le tableau et position du premier élément à afficher sont passés en\n",
    "paramètre.\n",
    "\"\"\"\n",
    "def afficher_inverse(tab: list, debut: int):\n",
    "    if debut < len(tab):           # condition d'arrêt\n",
    "        afficher_inverse(tab, debut + 1)   # appel récursif\n",
    "        print(tab[debut], end=\" \")        # affichage à la remontée\n",
    "\n",
    "mon_tableau = [1, 2, 3, 4, 5]\n",
    "\n",
    "print(\"Tableau à l'envers :\")\n",
    "afficher_inverse(mon_tableau, 0)\n"
   ]
  },
  {
   "cell_type": "code",
   "execution_count": 8,
   "id": "782bb3f9-2403-48d9-b61d-539bde253d47",
   "metadata": {},
   "outputs": [
    {
     "name": "stdout",
     "output_type": "stream",
     "text": [
      "Devinez le nombre entre 1 et 1000 !\n"
     ]
    },
    {
     "name": "stdin",
     "output_type": "stream",
     "text": [
      "Votre proposition :  10\n"
     ]
    },
    {
     "name": "stdout",
     "output_type": "stream",
     "text": [
      "Trop petit !\n"
     ]
    },
    {
     "name": "stdin",
     "output_type": "stream",
     "text": [
      "Votre proposition :  90\n"
     ]
    },
    {
     "name": "stdout",
     "output_type": "stream",
     "text": [
      "Trop grand !\n"
     ]
    },
    {
     "name": "stdin",
     "output_type": "stream",
     "text": [
      "Votre proposition :  20\n"
     ]
    },
    {
     "name": "stdout",
     "output_type": "stream",
     "text": [
      "Bravo ! Vous avez trouvé 🎉\n"
     ]
    }
   ],
   "source": [
    "# Page 84\n",
    "\"\"\"\n",
    "EXERCICE N°3\n",
    "Ecrire un programme qui demande à l’utilisateur de deviner un nombre entre 1 et\n",
    "1000. A chaque proposition, le programme indique si le nombre à trouver est\n",
    "inférieur ou supérieur à celui saisi.\n",
    "\"\"\"\n",
    "\n",
    "import random\n",
    "\n",
    "def deviner_nombre():\n",
    "    # secret = random.randint(1, 1000)\n",
    "    secret = 20\n",
    "    trouve = False\n",
    "    \n",
    "    print(\"Devinez le nombre entre 1 et 1000 !\")\n",
    "\n",
    "    while not trouve:\n",
    "        proposition = int(input(\"Votre proposition : \"))\n",
    "\n",
    "        if proposition < secret:\n",
    "            print(\"Trop petit !\")\n",
    "        elif proposition > secret:\n",
    "            print(\"Trop grand !\")\n",
    "        else:\n",
    "            print(\"Bravo ! Vous avez trouvé 🎉\")\n",
    "            trouve = True\n",
    "deviner_nombre()"
   ]
  }
 ],
 "metadata": {
  "kernelspec": {
   "display_name": "Python 3 (ipykernel)",
   "language": "python",
   "name": "python3"
  },
  "language_info": {
   "codemirror_mode": {
    "name": "ipython",
    "version": 3
   },
   "file_extension": ".py",
   "mimetype": "text/x-python",
   "name": "python",
   "nbconvert_exporter": "python",
   "pygments_lexer": "ipython3",
   "version": "3.13.5"
  }
 },
 "nbformat": 4,
 "nbformat_minor": 5
}
