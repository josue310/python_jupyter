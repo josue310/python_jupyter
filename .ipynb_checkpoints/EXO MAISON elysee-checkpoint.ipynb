{
 "cells": [
  {
   "cell_type": "code",
   "execution_count": 4,
   "id": "6b83ec9d-88d7-4856-8f9c-0c44f036363a",
   "metadata": {},
   "outputs": [
    {
     "name": "stdin",
     "output_type": "stream",
     "text": [
      "veillez entrer un chiffre: 34\n",
      "veillez entrer un chiffre: 45\n",
      "veillez entrer un chiffre: 43\n",
      "veillez entrer un chiffre: 34\n"
     ]
    },
    {
     "name": "stdout",
     "output_type": "stream",
     "text": [
      "le maximum est: 45\n"
     ]
    }
   ],
   "source": [
    "#page 62\n",
    "#insertion des valeurs à comparer\n",
    "a= int(input(\"veillez entrer un chiffre:\"))\n",
    "b= int(input(\"veillez entrer un chiffre:\"))\n",
    "c= int(input(\"veillez entrer un chiffre:\"))\n",
    "d= int(input(\"veillez entrer un chiffre:\"))\n",
    "#comparaison des valeurs\n",
    "if a>b :\n",
    "    mab=a\n",
    "else:\n",
    "    mab=b\n",
    "if c>d :\n",
    "    mcd= c\n",
    "else:\n",
    "    mcd=d\n",
    "if mab>mcd:\n",
    "    maxi= mab\n",
    "else:\n",
    "    maxi= mcd\n",
    "# afficher le max\n",
    "print(\"le maximum est:\",maxi)"
   ]
  },
  {
   "cell_type": "code",
   "execution_count": 31,
   "id": "d6a3e89c-ae34-4717-a932-d742e0b7c70b",
   "metadata": {},
   "outputs": [],
   "source": [
    "# page 64\n",
    "# defini la fonction\n",
    "def maxdeux(x, y):\n",
    "    \n",
    "    mxy = None  \n",
    "    if x > y:\n",
    "        mxy = x\n",
    "    else:\n",
    "        mxy = y\n",
    "    return mxy"
   ]
  },
  {
   "cell_type": "code",
   "execution_count": 19,
   "id": "88335aaa-18ef-4e60-b8d4-a8475a835ec7",
   "metadata": {},
   "outputs": [
    {
     "name": "stdin",
     "output_type": "stream",
     "text": [
      "Donner a :  2\n",
      "Donner b :  4\n",
      "Donner c :  5\n",
      "Donner d :  7\n"
     ]
    },
    {
     "name": "stdout",
     "output_type": "stream",
     "text": [
      "Le maximum des quatre nombres est : 7\n"
     ]
    }
   ],
   "source": [
    "# page 62\n",
    "#insertion des valeurs à comparer\n",
    "    a = int(input(\"Donner a : \"))\n",
    "    b = int(input(\"Donner b : \"))\n",
    "    c = int(input(\"Donner c : \"))\n",
    "    d = int(input(\"Donner d : \"))\n",
    "#comparaison des valeurs\n",
    "    mab = maxdeux(a, b)\n",
    "    mcd = maxdeux(c, d)\n",
    "    maxi = maxdeux(mab, mcd)\n",
    "#afficher le maxi des quatres valeurs\n",
    "    print(\"Le maximum des quatre nombres est :\", maxi)"
   ]
  },
  {
   "cell_type": "code",
   "execution_count": null,
   "id": "e38ef726-975c-437e-9082-cfb221f5241e",
   "metadata": {},
   "outputs": [],
   "source": []
  },
  {
   "cell_type": "code",
   "execution_count": null,
   "id": "5683ac62-3cea-4f82-b776-127c2ec09074",
   "metadata": {},
   "outputs": [],
   "source": []
  },
  {
   "cell_type": "code",
   "execution_count": null,
   "id": "f6f359a9-8454-4f96-82c4-bbc781a596f9",
   "metadata": {},
   "outputs": [],
   "source": []
  },
  {
   "cell_type": "code",
   "execution_count": null,
   "id": "b035863d-afa5-4326-b2c8-3d1cf11dae05",
   "metadata": {},
   "outputs": [],
   "source": []
  }
 ],
 "metadata": {
  "kernelspec": {
   "display_name": "Python 3 (ipykernel)",
   "language": "python",
   "name": "python3"
  },
  "language_info": {
   "codemirror_mode": {
    "name": "ipython",
    "version": 3
   },
   "file_extension": ".py",
   "mimetype": "text/x-python",
   "name": "python",
   "nbconvert_exporter": "python",
   "pygments_lexer": "ipython3",
   "version": "3.13.5"
  }
 },
 "nbformat": 4,
 "nbformat_minor": 5
}
