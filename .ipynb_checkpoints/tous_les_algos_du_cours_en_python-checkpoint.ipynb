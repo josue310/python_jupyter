{
 "cells": [
  {
   "cell_type": "markdown",
   "id": "77ea13cd-93e5-4f44-9d3d-7e5114a95d2b",
   "metadata": {},
   "source": [
    "# TOUS LES ALGOS EN PYTHON\n",
    "\n",
    "## Auteurs\n",
    "\n",
    "1. BARY Souleymane  \n",
    "2. OUATTARA Ibrahim  \n",
    "3. ALLO Ohou Jered Elysée  \n",
    "4. COULIBALY Ahmed Namiloho Aziz  \n",
    "5. KOUADIO Josué Noël Yao\n"
   ]
  },
  {
   "cell_type": "markdown",
   "id": "37dd9dc2-4c96-497b-901c-af243c6dfa4e",
   "metadata": {},
   "source": [
    "# Pour commencer, nous avons traité les exercices pour lesquels l'instruction \" Traduire l'algorithme en langage C\" était mentionnée"
   ]
  },
  {
   "cell_type": "code",
   "execution_count": 1,
   "id": "e91910f5-91ec-420b-b81f-b76c44ba18e9",
   "metadata": {},
   "outputs": [
    {
     "name": "stdout",
     "output_type": "stream",
     "text": [
      "Bonjour tout  le monde !\n"
     ]
    }
   ],
   "source": [
    "# Page 13, algo nommé \"Salutation\"\n",
    "\"\"\"\n",
    "ALGORITHME salutation\n",
    "DEBUT \n",
    "    ECRIRE (\"Bonjour tout le monde !\")\n",
    "FIN\n",
    "\"\"\"\n",
    "print(\"Bonjour tout  le monde !\")"
   ]
  },
  {
   "cell_type": "code",
   "execution_count": 2,
   "id": "07259f95-7acf-4ed7-89e1-dec5e3247a83",
   "metadata": {},
   "outputs": [
    {
     "name": "stdout",
     "output_type": "stream",
     "text": [
      "Vous devez rembourser 1500.0 FCFA\n"
     ]
    }
   ],
   "source": [
    "# page 15, algo nommé \"RemboursementPret\"\n",
    "\"\"\"\n",
    "ALGORITHME remboursementPret\n",
    "    VARIABLES\n",
    "        somme : REEL\n",
    "        interet : REEL\n",
    "        aremb : REEL\n",
    "DEBUT\n",
    "    somme ← 1000\n",
    "    interet ← (somme * 50) / 100\n",
    "    aremb ← somme + interet\n",
    "    ECRIRE(\"Vous devez rembourser \",aremb,\"FCFA\")\n",
    "FIN\n",
    "\"\"\"\n",
    "somme = 1000\n",
    "interet = (somme * 50) / 100\n",
    "aremb = somme + interet\n",
    "print(f\"Vous devez rembourser {aremb} FCFA\")"
   ]
  },
  {
   "cell_type": "code",
   "execution_count": null,
   "id": "f8f8df14-a2e2-406f-a3fe-d07ea93e30cf",
   "metadata": {},
   "outputs": [],
   "source": []
  },
  {
   "cell_type": "code",
   "execution_count": 3,
   "id": "9e2570fb-db0d-4809-ad52-52edad03d9cc",
   "metadata": {},
   "outputs": [
    {
     "name": "stdin",
     "output_type": "stream",
     "text": [
      "Entrez votre nom :  KOUADIO\n",
      "Entrez votre prenom :  Josué Noël Yao\n",
      "Quel est votre âge ?  20\n"
     ]
    },
    {
     "name": "stdout",
     "output_type": "stream",
     "text": [
      "On vous appelle KOUADIO Josué Noël Yao Vous avez 20 ans\n"
     ]
    }
   ],
   "source": [
    "# page 16, algo nommé \"LectureNomAge\"\n",
    "\"\"\"\n",
    "ALGORITHME LectureNomAge\n",
    "    VARIABLES \n",
    "        nom, prenom : CHAINE\n",
    "        age : ENTIER\n",
    "DEBUT\n",
    "    LIRE (nom, prenom, age)\n",
    "    ECRIRE (\"On vous appelle\", nom,\"\", prenom, \"Vous avez \",age,\"ans\")\n",
    "FIN\n",
    "\"\"\"\n",
    "nom = input(\"Entrez votre nom : \")\n",
    "prenom = input(\"Entrez votre prenom : \")\n",
    "age = int(input(\"Quel est votre âge ? \"))\n",
    "print(f\"On vous appelle {nom} {prenom} Vous avez {age} ans\")"
   ]
  },
  {
   "cell_type": "code",
   "execution_count": 4,
   "id": "d8055ce2-ce04-4562-9516-fd87817f36bf",
   "metadata": {},
   "outputs": [
    {
     "name": "stdin",
     "output_type": "stream",
     "text": [
      "Entrez n1 :  8\n",
      "Entrez n2 :  10\n",
      "Entrez n3 :  18\n"
     ]
    },
    {
     "name": "stdout",
     "output_type": "stream",
     "text": [
      "True\n"
     ]
    }
   ],
   "source": [
    "# Page 27, algo nommé \"Admissibilité\" \n",
    "\"\"\"\n",
    "ALGORITHME admissibilite\n",
    "    VARIABLES \n",
    "        n1, n2, n3 : REEL\n",
    "DEBUT\n",
    "    LIRE (n1, n2, n3)\n",
    "    ECRIRE ( (n1 + n2 + n3) / 3 >= 10 ET NON (n1<5 OU n2<5 OU n3<5))\n",
    "FIN\n",
    "\"\"\"\n",
    "\n",
    "n1 = float(input(\"Entrez n1 : \"))\n",
    "n2 = float(input(\"Entrez n2 : \"))\n",
    "n3 = float(input(\"Entrez n3 : \"))\n",
    "\n",
    "print((n1 + n2 + n3) / 3 >= 10 and not (n1 < 5 or n2 < 5 or n3 < 5))\n"
   ]
  },
  {
   "cell_type": "code",
   "execution_count": 5,
   "id": "85d7bac5-8786-41f3-84d4-a3ecdfdddd19",
   "metadata": {},
   "outputs": [
    {
     "name": "stdout",
     "output_type": "stream",
     "text": [
      "Donnez deux entiers\n"
     ]
    },
    {
     "name": "stdin",
     "output_type": "stream",
     "text": [
      "Entrez le premier entier :  -2\n",
      "Entrez le second entier :  5\n"
     ]
    },
    {
     "name": "stdout",
     "output_type": "stream",
     "text": [
      "Le plus grand des deux nombres -2 et 5 est : 5\n"
     ]
    }
   ],
   "source": [
    "# Page 32, algo nommé \"MaxDeux\" \n",
    "\"\"\"\n",
    "ALGORITHME MaxDeux\n",
    "    VARIABLES \n",
    "        nb1, nb2 : ENTIER\n",
    "        maxi : ENTIER\n",
    "DEBUT\n",
    "    ECRIRE (\"Donnez deux entiers\")\n",
    "    LIRE (nb1, nb2)\n",
    "    SI nb1 > nb2 ALORS\n",
    "        maxi ← nb1\n",
    "    SINON\n",
    "        maxi ← nb2\n",
    "    FINSI\n",
    "    ECRIRE (\"Le plus grand des deux nombres \",nb1, \"et \",nb2, \"est : \",maxi)\n",
    "    \n",
    "FIN\n",
    "\"\"\"\n",
    "\n",
    "print(\"Donnez deux entiers\")\n",
    "nb1 = int(input(\"Entrez le premier entier : \"))\n",
    "nb2 = int(input(\"Entrez le second entier : \"))\n",
    "\n",
    "if nb1 > nb2:\n",
    "    maxi = nb1\n",
    "else:\n",
    "    maxi = nb2\n",
    "print(f\"Le plus grand des deux nombres {nb1} et {nb2} est : {maxi}\")\n",
    "\n"
   ]
  },
  {
   "cell_type": "code",
   "execution_count": 6,
   "id": "bd4133c4-e40d-4604-8066-dff2e360a726",
   "metadata": {},
   "outputs": [
    {
     "name": "stdin",
     "output_type": "stream",
     "text": [
      "Entrez le premier entier :  2\n",
      "Entrez le deuxième entier :  3\n",
      "Entrez le premier entier :  5\n",
      "Entrez le deuxième entier :  3\n",
      "Entrez le premier entier :  10\n",
      "Entrez le deuxième entier :  2\n"
     ]
    },
    {
     "name": "stdout",
     "output_type": "stream",
     "text": [
      "Le nombre de lancée est : 2\n"
     ]
    }
   ],
   "source": [
    "# Page 42, algo nommé \"JeuDeLance\" \n",
    "\"\"\"\n",
    "ALGORITHME JeuDeLance\n",
    "    VARIABLES \n",
    "        nbLancee, d1, d2 : ENTIER\n",
    "DEBUT\n",
    "    nbLancee ← 0\n",
    "    REPETER\n",
    "        LIRE(d1)\n",
    "        LIRE(d2)\n",
    "        nbLancee ← nbLancee + 1\n",
    "    JUSQUA d1 + d2 = 12\n",
    "    ECRIRE (\"Le nombre de lancée est : \", nbLancee)\n",
    "FIN\n",
    "\"\"\"\n",
    "\n",
    "nbLancee = 0\n",
    "d1 = int(input(\"Entrez le premier entier : \"))\n",
    "d2 = int(input(\"Entrez le deuxième entier : \"))\n",
    "while d1 + d2 != 12:\n",
    "    d1 = int(input(\"Entrez le premier entier : \"))\n",
    "    d2 = int(input(\"Entrez le deuxième entier : \"))\n",
    "    nbLancee += 1\n",
    "print(f\"Le nombre de lancée est : {nbLancee}\")"
   ]
  },
  {
   "cell_type": "code",
   "execution_count": 7,
   "id": "a876e193-2c6e-4540-81fc-d32422036b82",
   "metadata": {},
   "outputs": [
    {
     "name": "stdout",
     "output_type": "stream",
     "text": [
      "30\n"
     ]
    }
   ],
   "source": [
    "# Page 44, algo nommé \"SimulationPour\" \n",
    "\"\"\"\n",
    "ALGORITHME SimulationPour\n",
    "    VARIABLES \n",
    "        i, n, s : ENTIER\n",
    "DEBUT\n",
    "    n ← 0\n",
    "    s ← 0\n",
    "    POUR i DE 1 à 3 FAIRE:\n",
    "        n ← n + 5\n",
    "        s ← s + n\n",
    "    FINPOUR\n",
    "    ECRIRE(s)\n",
    "FIN\n",
    "\"\"\"\n",
    "\n",
    "n = 0\n",
    "s = 0\n",
    "for i in range(1,4):\n",
    "    n = n + 5\n",
    "    s = s + n\n",
    "print(s)"
   ]
  },
  {
   "cell_type": "markdown",
   "id": "2cf31ddb-34f0-4e05-aace-e5bdb3c648dc",
   "metadata": {},
   "source": [
    "# Enfin, nous terminons avec tout les autres algorithmes "
   ]
  },
  {
   "cell_type": "code",
   "execution_count": 11,
   "id": "5804fe4d-9c6a-44ec-83c3-75526f8a6518",
   "metadata": {},
   "outputs": [
    {
     "name": "stdin",
     "output_type": "stream",
     "text": [
      "Entrez la valeur du premier nombre  :  5\n",
      "Entrez la valeur du deuxième nombre :  3\n"
     ]
    },
    {
     "name": "stdout",
     "output_type": "stream",
     "text": [
      "La moyenne des deux nombres est : 4.0\n"
     ]
    }
   ],
   "source": [
    "# Page 17\n",
    "\"\"\"\n",
    "Ecrire un algorithme nommé Moyenne bien indenté, qui calcule la moyenne de deux\n",
    "nombres saisis par l’utilisateur, simulé comme suit :\n",
    "\"\"\"\n",
    "\n",
    "a = float(input(\"Entrez la valeur du premier nombre  : \"))\n",
    "b = float(input(\"Entrez la valeur du deuxième nombre : \"))\n",
    "\n",
    "print(f\"La moyenne des deux nombres est : {(a+b)/2}\")"
   ]
  },
  {
   "cell_type": "code",
   "execution_count": 14,
   "id": "ff25eefa-cc3e-4495-b35a-c039845283da",
   "metadata": {},
   "outputs": [
    {
     "name": "stdin",
     "output_type": "stream",
     "text": [
      "Donnez la coordonnée x du premier point 3\n",
      "Donnez la coordonnée y du premier point 8\n",
      "Donnez la coordonnée x du premier point 6\n",
      "Donnez la coordonnée y du premier point 2\n"
     ]
    },
    {
     "name": "stdout",
     "output_type": "stream",
     "text": [
      "Les coordonnées du point milieu sont : 4.5 en abscisse et 5.0 en ordonnée\n"
     ]
    }
   ],
   "source": [
    "# page 17\n",
    "\"\"\"\n",
    "Ecrire un algorithme qui demande à l'utilisateur les coordonnées de 2 points distincts\n",
    "du plan et qui affiche les coordonnées du point milieu.\n",
    "\"\"\"\n",
    "\n",
    "x1 = float(input(\"Donnez la coordonnée x du premier point\"))\n",
    "y1 = float(input(\"Donnez la coordonnée y du premier point\"))\n",
    "\n",
    "x2 = float(input(\"Donnez la coordonnée x du premier point\"))\n",
    "y2 = float(input(\"Donnez la coordonnée y du premier point\"))\n",
    "\n",
    "x_mil = (x1 + x2) / 2\n",
    "y_mil = (y1 + y2) / 2\n",
    "\n",
    "print (f\"Les coordonnées du point milieu sont : {x_mil} en abscisse et {y_mil} en ordonnée\")"
   ]
  },
  {
   "cell_type": "code",
   "execution_count": 15,
   "id": "343137d7-1a92-422b-bdf9-17c0f696ee67",
   "metadata": {},
   "outputs": [
    {
     "name": "stdin",
     "output_type": "stream",
     "text": [
      "Donnez la note numéro 1 :  15\n",
      "Donnez la note numéro 2 :  10\n",
      "Donnez la note numéro 3 :  18\n"
     ]
    },
    {
     "name": "stdout",
     "output_type": "stream",
     "text": [
      "Moyennne des 3 note(s) : 14.333333333333334\n"
     ]
    }
   ],
   "source": [
    "# page 18 Algo CalculDeMoyenne\n",
    "\"\"\"\n",
    "ALGORITHME CalculDeMoyenne\n",
    "    {Cet algorithme calcule la moyenne de N notes. Ici N = 3}\n",
    "\n",
    "    CONSTANTES\n",
    "        N = 3\n",
    "\n",
    "    VARIABLES\n",
    "        Note : REEL\n",
    "        SommeDeNotes : REEL\n",
    "        MoyenneDesNotes : REEL\n",
    "        NombreDeNotesSaisies : ENTIER\n",
    "\n",
    "DEBUT\n",
    "    1 SommeDesNotes ← 0\n",
    "    2 NombreDeNotesSaisies ← 0\n",
    "    3 TANTQUE (NombreDeNotesSaisies < N) FAIRE\n",
    "        4   ECRIRE (\"Note Numéro : \", NombreDeNotesSaisies + 1)\n",
    "        5   LIRE (Note)\n",
    "        6   SommeDesNotes ← SommeDesNotes + Note\n",
    "        7   NombreDeNotesSaisies ← NombreDeNotesSaisies + 1\n",
    "    8 FINTANTQUE\n",
    "    9 MoyenneDesNotes ← SommeDesNotes / N\n",
    "    10 ECRIRE (\"Moyenne des \", N, \"note(s) : \", MoyenneDesNotes)\n",
    "FIN\n",
    "\n",
    "\"\"\"\n",
    "N = 3\n",
    "SommeDesNotes = 0\n",
    "NombreDeNotesSaisies = 0\n",
    "while NombreDeNotesSaisies < N:\n",
    "    Note  = float(input(f\"Donnez la note numéro {NombreDeNotesSaisies + 1} : \"))\n",
    "    SommeDesNotes += Note\n",
    "    NombreDeNotesSaisies += 1\n",
    "MoyenneDesNotes = SommeDesNotes / N\n",
    "print(f\"Moyennne des {N} note(s) : {MoyenneDesNotes}\")\n",
    "    "
   ]
  },
  {
   "cell_type": "code",
   "execution_count": 3,
   "id": "7f5f1db9-c7e6-429c-a3ad-478b78f628c0",
   "metadata": {},
   "outputs": [
    {
     "name": "stdin",
     "output_type": "stream",
     "text": [
      "Donnez une valeur réelle à la variable A :  2\n",
      "Donnez une valeur réelle à la variable B :  3\n"
     ]
    },
    {
     "name": "stdout",
     "output_type": "stream",
     "text": [
      "Ainsi nous constatons que la variable A contient 3.0 et la variable B contient 2.0\n"
     ]
    }
   ],
   "source": [
    "# Page 21 Exercice 5.1\n",
    "\"\"\"\n",
    "Ecrire un algorithme permettant d’échanger les valeurs de deux variables A et B,\n",
    "et ce quel que soit leur contenu préalable.\n",
    "\"\"\"\n",
    "\n",
    "A = float(input(\"Donnez une valeur réelle à la variable A : \"))\n",
    "B = float(input(\"Donnez une valeur réelle à la variable B : \"))\n",
    "\n",
    "A,B = B,A\n",
    "print(f\"Ainsi nous constatons que la variable A contient {A} et la variable B contient {B}\")\n"
   ]
  },
  {
   "cell_type": "code",
   "execution_count": 4,
   "id": "f1707376-d370-4e62-9875-edf1e2eab71e",
   "metadata": {},
   "outputs": [
    {
     "name": "stdout",
     "output_type": "stream",
     "text": [
      "Avant permutation :  1 2 3\n",
      "Après permutation :  2 3 1\n"
     ]
    }
   ],
   "source": [
    "# Page 21 Exercice 5.2\n",
    "\"\"\"\n",
    "On dispose de trois variables A, B et C. Ecrivez un algorithme transférant à A la\n",
    "valeur de B, à B la valeur de C et à C la valeur de A (quels que soient les contenus\n",
    "préalables de ces variables).\n",
    "\"\"\"\n",
    "A = 1\n",
    "B = 2\n",
    "C = 3\n",
    "print(\"Avant permutation : \", A, B, C)\n",
    "val = A\n",
    "A = B\n",
    "B = C\n",
    "C = val\n",
    "print(\"Après permutation : \", A, B, C)"
   ]
  },
  {
   "cell_type": "code",
   "execution_count": 6,
   "id": "ba890f7f-9e1c-4817-86aa-7359a9a167b9",
   "metadata": {},
   "outputs": [
    {
     "name": "stdin",
     "output_type": "stream",
     "text": [
      "Donnez la valeur du rayon :  5\n"
     ]
    },
    {
     "name": "stdout",
     "output_type": "stream",
     "text": [
      "La surface de ce cercle est :  31.41592653589793\n",
      "La circonférence est :  25.0\n"
     ]
    }
   ],
   "source": [
    "# Page 22 Exercice 6\n",
    "\"\"\"\n",
    "Ecrivez un algorithme qui calcule et affiche la surface et la circonférence d’un cercle\n",
    "(2𝜋𝑅 et 𝑅^2). L’algorithme demandera à l’utilisateur d’entrer la valeur du rayon.\n",
    "\"\"\"\n",
    "import math\n",
    "rayon = float(input(\"Donnez la valeur du rayon : \"))\n",
    "print (\"La surface de ce cercle est : \",2*math.pi*rayon)\n",
    "print (\"La circonférence est : \", rayon**2)"
   ]
  },
  {
   "cell_type": "code",
   "execution_count": 8,
   "id": "066186b0-e73e-49b1-9a1d-a96791b7494c",
   "metadata": {},
   "outputs": [
    {
     "data": {
      "text/plain": [
       "'\\nx = 2  # valeur aléatoire\\n\\nx2 = x * x        \\nx3 = x2 * x       \\nx5 = x3 * x2      \\nx10 = x5 * x5     \\nx20 = x10 * x10   \\nx25 = x20 * x5    \\n\\nprint(x25)        # 33554432 si x=2\\n\\n'"
      ]
     },
     "execution_count": 8,
     "metadata": {},
     "output_type": "execute_result"
    }
   ],
   "source": [
    "# Page 22 Exercice 7\n",
    "\"\"\"\n",
    "Comment calculer le plus rapidement possible x^16 ? Calculer x^25 avec le minimum\n",
    "de multiplication.\n",
    "\"\"\"\n",
    "\n",
    "# Pour x^16, On utilise la méthode des carrés successifs en utilisant 4 multiplications\n",
    "\"\"\"\n",
    "x = 2  valeur aléatoire\n",
    "\n",
    "x2 = x * x       \n",
    "x4 = x2 * x2     \n",
    "x8 = x4 * x4     \n",
    "x16 = x8 * x8    \n",
    "\n",
    "print(x16)       # 65536 si x=2\n",
    "\n",
    "\"\"\"\n",
    "\n",
    "# Pour x^16, On utilise une chaîne d’addition optimale en 6 multiplications : 1→2→3→5→10→20→25\n",
    "\"\"\"\n",
    "x = 2  # valeur aléatoire\n",
    "\n",
    "x2 = x * x        \n",
    "x3 = x2 * x       \n",
    "x5 = x3 * x2      \n",
    "x10 = x5 * x5     \n",
    "x20 = x10 * x10   \n",
    "x25 = x20 * x5    \n",
    "\n",
    "print(x25)        # 33554432 si x=2\n",
    "\n",
    "\"\"\"\n"
   ]
  },
  {
   "cell_type": "code",
   "execution_count": 7,
   "id": "717546c2-adaf-4146-951c-c9f3a8b4a87e",
   "metadata": {},
   "outputs": [
    {
     "name": "stdin",
     "output_type": "stream",
     "text": [
      "Entrez le temps en secondes :  3600\n"
     ]
    },
    {
     "name": "stdout",
     "output_type": "stream",
     "text": [
      "0 jours 1 heures 0 minutes et 0 secondes\n"
     ]
    }
   ],
   "source": [
    "# Page 22 Exercice 9\n",
    "\"\"\"\n",
    "Écrire un algorithme qui effectue la lecture du temps t en seconde, et il affiche le\n",
    "temps t en jours, heure, minutes, secondes. Exemple : si t = 21020 secondes\n",
    "l’algorithme affichera \"0 jours 5 heures 50 minutes et 20 secondes\".\n",
    "\"\"\"\n",
    "\n",
    "t = int(input(\"Entrez le temps en secondes : \"))\n",
    "\n",
    "jours = t // 86400\n",
    "t = t % 86400\n",
    "\n",
    "heures = t // 3600\n",
    "t = t % 3600\n",
    "\n",
    "minutes = t // 60\n",
    "secondes = t % 60\n",
    "\n",
    "print(f\"{jours} jours {heures} heures {minutes} minutes et {secondes} secondes\")\n",
    "\n"
   ]
  },
  {
   "cell_type": "code",
   "execution_count": 9,
   "id": "accd1e86-3026-4761-a7ee-9a090bb7d784",
   "metadata": {},
   "outputs": [
    {
     "data": {
      "text/plain": [
       "6"
      ]
     },
     "execution_count": 9,
     "metadata": {},
     "output_type": "execute_result"
    }
   ],
   "source": [
    "# Page 79\n",
    "def factorielle(nb) -> int:\n",
    "    if nb == 1: \n",
    "        return 1\n",
    "    else:\n",
    "        return nb * factorielle(nb - 1)\n",
    "factorielle(3)\n"
   ]
  },
  {
   "cell_type": "code",
   "execution_count": 10,
   "id": "aa075c4e-cc54-4d5a-a7a0-c8b09824b5cd",
   "metadata": {},
   "outputs": [
    {
     "name": "stdout",
     "output_type": "stream",
     "text": [
      "2\n"
     ]
    }
   ],
   "source": [
    "# Page 82\n",
    "def chercher(t: list[int], taille: int, valeur: int, debut: int) -> int:\n",
    "    if debut >= taille:\n",
    "        return -1\n",
    "    if t[debut] == valeur:\n",
    "        return debut\n",
    "    return chercher(t, taille, valeur, debut + 1)\n",
    "\n",
    "tab = [3, 5, 7, 9, 11]\n",
    "val = 7\n",
    "\n",
    "indice = chercher(tab, len(tab), val, 0)\n",
    "print(indice)  # Affiche 2, car la valeur 7 correspond à l'indice 2 dans le tableau"
   ]
  },
  {
   "cell_type": "code",
   "execution_count": 11,
   "id": "412c7e24-83f8-4611-9fe8-b349ffbe3172",
   "metadata": {},
   "outputs": [
    {
     "data": {
      "text/plain": [
       "5"
      ]
     },
     "execution_count": 11,
     "metadata": {},
     "output_type": "execute_result"
    }
   ],
   "source": [
    "# Page 83\n",
    "def fibonacci(n: int) -> int:\n",
    "    if n == 0:  \n",
    "        return 0\n",
    "    elif n == 1: \n",
    "        return 1\n",
    "    else:  \n",
    "        return fibonacci(n - 1) + fibonacci(n - 2)\n",
    "\n",
    "fibonacci(5)\n"
   ]
  },
  {
   "cell_type": "code",
   "execution_count": 12,
   "id": "9fc885ef-ca45-4a0e-aa32-4bd14f7f1450",
   "metadata": {},
   "outputs": [
    {
     "name": "stdout",
     "output_type": "stream",
     "text": [
      "5\n"
     ]
    }
   ],
   "source": [
    "# Page 84\n",
    "\"\"\"\n",
    "EXERCICE N°1\n",
    "Ecrire une fonction qui retourne le plus grand de deux entiers passés en\n",
    "paramètres. Même exercice avec trois entiers.\n",
    "\"\"\"\n",
    "\n",
    "def max2(a: int, b: int) -> int:\n",
    "    if a > b:\n",
    "        return a\n",
    "    else:\n",
    "        return b\n",
    "print(max2(2,5))"
   ]
  },
  {
   "cell_type": "code",
   "execution_count": 13,
   "id": "4d652910-20ef-4ad7-b37b-010f6c72cd60",
   "metadata": {},
   "outputs": [
    {
     "name": "stdout",
     "output_type": "stream",
     "text": [
      "0\n"
     ]
    }
   ],
   "source": [
    "# Avec trois entiers\n",
    "def max3(a: int, b: int, c: int) -> int:\n",
    "    return max2(max2(a, b), c)  \n",
    "    \n",
    "print(max3(-2,-5,0))"
   ]
  },
  {
   "cell_type": "code",
   "execution_count": 14,
   "id": "f7499364-724a-4483-8cf7-d625aa34fb0e",
   "metadata": {},
   "outputs": [
    {
     "name": "stdout",
     "output_type": "stream",
     "text": [
      "Tableau à l'envers :\n",
      "5 4 3 2 1 "
     ]
    }
   ],
   "source": [
    "# Page 84\n",
    "\"\"\"\n",
    "Ecrire une fonction qui affiche un tableau à l’envers par une méthode itérative et\n",
    "récursive. Le tableau et position du premier élément à afficher sont passés en\n",
    "paramètre.\n",
    "\"\"\"\n",
    "def afficher_inverse(tab: list, debut: int):\n",
    "    if debut < len(tab):           # condition d'arrêt\n",
    "        afficher_inverse(tab, debut + 1)   # appel récursif\n",
    "        print(tab[debut], end=\" \")        # affichage à la remontée\n",
    "\n",
    "mon_tableau = [1, 2, 3, 4, 5]\n",
    "\n",
    "print(\"Tableau à l'envers :\")\n",
    "afficher_inverse(mon_tableau, 0)\n"
   ]
  },
  {
   "cell_type": "code",
   "execution_count": 15,
   "id": "66867e91-e245-41a0-bb71-df5b2d1b38d8",
   "metadata": {},
   "outputs": [
    {
     "name": "stdout",
     "output_type": "stream",
     "text": [
      "Devinez le nombre entre 1 et 1000 !\n"
     ]
    },
    {
     "name": "stdin",
     "output_type": "stream",
     "text": [
      "Votre proposition :  10\n"
     ]
    },
    {
     "name": "stdout",
     "output_type": "stream",
     "text": [
      "Trop petit !\n"
     ]
    },
    {
     "name": "stdin",
     "output_type": "stream",
     "text": [
      "Votre proposition :  100\n"
     ]
    },
    {
     "name": "stdout",
     "output_type": "stream",
     "text": [
      "Trop grand !\n"
     ]
    },
    {
     "name": "stdin",
     "output_type": "stream",
     "text": [
      "Votre proposition :  20\n"
     ]
    },
    {
     "name": "stdout",
     "output_type": "stream",
     "text": [
      "Bravo ! Vous avez trouvé 🎉\n"
     ]
    }
   ],
   "source": [
    "# Page 84\n",
    "\"\"\"\n",
    "EXERCICE N°3\n",
    "Ecrire un programme qui demande à l’utilisateur de deviner un nombre entre 1 et\n",
    "1000. A chaque proposition, le programme indique si le nombre à trouver est\n",
    "inférieur ou supérieur à celui saisi.\n",
    "\"\"\"\n",
    "\n",
    "import random\n",
    "\n",
    "def deviner_nombre():\n",
    "    # secret = random.randint(1, 1000)\n",
    "    secret = 20\n",
    "    trouve = False\n",
    "    \n",
    "    print(\"Devinez le nombre entre 1 et 1000 !\")\n",
    "\n",
    "    while not trouve:\n",
    "        proposition = int(input(\"Votre proposition : \"))\n",
    "\n",
    "        if proposition < secret:\n",
    "            print(\"Trop petit !\")\n",
    "        elif proposition > secret:\n",
    "            print(\"Trop grand !\")\n",
    "        else:\n",
    "            print(\"Bravo ! Vous avez trouvé 🎉\")\n",
    "            trouve = True\n",
    "deviner_nombre()"
   ]
  },
  {
   "cell_type": "code",
   "execution_count": 16,
   "id": "d19c35e6-db90-4613-ac6b-43f6846817b2",
   "metadata": {},
   "outputs": [
    {
     "name": "stdin",
     "output_type": "stream",
     "text": [
      "veillez entrer un chiffre: 1\n",
      "veillez entrer un chiffre: 2\n",
      "veillez entrer un chiffre: 3\n",
      "veillez entrer un chiffre: 4\n"
     ]
    },
    {
     "name": "stdout",
     "output_type": "stream",
     "text": [
      "le maximum est: 4\n"
     ]
    }
   ],
   "source": [
    "#page 62\n",
    "#insertion des valeurs à comparer\n",
    "a= int(input(\"veillez entrer un chiffre:\"))\n",
    "b= int(input(\"veillez entrer un chiffre:\"))\n",
    "c= int(input(\"veillez entrer un chiffre:\"))\n",
    "d= int(input(\"veillez entrer un chiffre:\"))\n",
    "#comparaison des valeurs\n",
    "if a>b :\n",
    "    mab=a\n",
    "else:\n",
    "    mab=b\n",
    "if c>d :\n",
    "    mcd= c\n",
    "else:\n",
    "    mcd=d\n",
    "if mab>mcd:\n",
    "    maxi= mab\n",
    "else:\n",
    "    maxi= mcd\n",
    "# afficher le max\n",
    "print(\"le maximum est:\",maxi)"
   ]
  },
  {
   "cell_type": "code",
   "execution_count": 22,
   "id": "7eb462aa-d182-4a08-b65d-d595ea814943",
   "metadata": {},
   "outputs": [],
   "source": [
    "# page 64\n",
    "# je defini la fonction pour comparer deux nombres\n",
    "def maxdeux(x, y):\n",
    "    \n",
    "    mxy = None  \n",
    "    if x > y:\n",
    "        mxy = x\n",
    "    else:\n",
    "        mxy = y\n",
    "    return mxy\n",
    "\n"
   ]
  },
  {
   "cell_type": "code",
   "execution_count": 24,
   "id": "34c7d02b-2622-4816-90e9-0577d3f94e23",
   "metadata": {},
   "outputs": [
    {
     "name": "stdin",
     "output_type": "stream",
     "text": [
      "Donner a :  5\n",
      "Donner b :  4\n",
      "Donner c :  3\n",
      "Donner d :  2\n"
     ]
    },
    {
     "name": "stdout",
     "output_type": "stream",
     "text": [
      "Le maximum des quatre nombres est : 5\n"
     ]
    }
   ],
   "source": [
    "# page 62\n",
    "\n",
    "# insertion des valeurs à comparer\n",
    "a = int(input(\"Donner a : \"))\n",
    "b = int(input(\"Donner b : \"))\n",
    "c = int(input(\"Donner c : \"))\n",
    "d = int(input(\"Donner d : \"))\n",
    "\n",
    "# comparaison des valeurs\n",
    "mab = maxdeux(a, b)\n",
    "mcd = maxdeux(c, d)\n",
    "maxi = maxdeux(mab, mcd)\n",
    "\n",
    "# afficher le maximum des quatre valeurs\n",
    "print(\"Le maximum des quatre nombres est :\", maxi)\n"
   ]
  },
  {
   "cell_type": "code",
   "execution_count": 26,
   "id": "19745319-13a8-4b7b-9e4a-160fc9bdad8a",
   "metadata": {},
   "outputs": [
    {
     "name": "stdout",
     "output_type": "stream",
     "text": [
      "*\n",
      "++++\n",
      "###\n",
      "ooooooo\n"
     ]
    }
   ],
   "source": [
    "#Page 70\n",
    "\n",
    "def ligne(nb: int, car: str):\n",
    "    for i in range(nb):\n",
    "        print(car, end=\"\")\n",
    "    print()\n",
    "\n",
    "def dessin():\n",
    "    ligne(1, '*')\n",
    "    ligne(4, '+')\n",
    "    ligne(3, '#')\n",
    "    ligne(7, 'o')\n",
    "\n",
    "dessin()\n"
   ]
  },
  {
   "cell_type": "code",
   "execution_count": 27,
   "id": "11816032-56b6-4c24-9928-4592972aff87",
   "metadata": {},
   "outputs": [
    {
     "name": "stdout",
     "output_type": "stream",
     "text": [
      "Exemple de calcul de différence de rotation :\n"
     ]
    },
    {
     "name": "stdin",
     "output_type": "stream",
     "text": [
      "Entrer d1 (degrés) :  45\n",
      "Entrer m1 (minutes) :  12\n",
      "Entrer d2 (degrés) :  72\n",
      "Entrer m2 (minutes) :  3\n"
     ]
    },
    {
     "name": "stdout",
     "output_type": "stream",
     "text": [
      "Différence : 26 degrés 51 minutes\n"
     ]
    }
   ],
   "source": [
    "# Page 71\n",
    "\"\"\"\n",
    "Cet algorithme demande deux angles exprimés en degrés et minutes d'angle,\n",
    "puis calcule la différence entre les deux. Avant de faire la différence, les deux\n",
    "angles sont convertis en minutes par la fonction minute. La fonction valAbs\n",
    "renvoie la valeur absolue du paramètre. Pour faire la conversion en sens inverse, on\n",
    "ne peut pas utiliser une fonction puisqu'il y a deux résultats (les degrés et les\n",
    "minutes). C'est pourquoi on utilise la procédure convertir qui a deux paramètres de\n",
    "sortie.\n",
    "\n",
    "\"\"\"\n",
    "\n",
    "# convertir degré et minute en minutes totales\n",
    "def minutes(d: int, m: int) -> int:\n",
    "    return 60 * d + m\n",
    "\n",
    "# valeur absolue\n",
    "def valAbs(x: int) -> int:\n",
    "    if x > 0:\n",
    "        return x\n",
    "    else:\n",
    "        return -x\n",
    "\n",
    "# convertir minutes totales en degré et minute\n",
    "def convertir(mi: int) -> tuple[int, int]:\n",
    "    dd = mi // 60\n",
    "    mm = mi % 60\n",
    "    return dd, mm\n",
    "\n",
    "# calcul de la différence de rotation\n",
    "def rotation():\n",
    "    d1 = int(input(\"Entrer d1 (degrés) : \"))\n",
    "    m1 = int(input(\"Entrer m1 (minutes) : \"))\n",
    "    d2 = int(input(\"Entrer d2 (degrés) : \"))\n",
    "    m2 = int(input(\"Entrer m2 (minutes) : \"))\n",
    "\n",
    "    mm1 = minutes(d1, m1)\n",
    "    mm2 = minutes(d2, m2)\n",
    "\n",
    "    dm = valAbs(mm1 - mm2)  # utiliser valAbs pour la différence\n",
    "\n",
    "    deg, minute = convertir(dm)\n",
    "\n",
    "    print(\"Différence :\", deg, \"degrés\", minute, \"minutes\")\n",
    "\n",
    "\n",
    "print(\"Exemple de calcul de différence de rotation :\")\n",
    "rotation()\n"
   ]
  },
  {
   "cell_type": "code",
   "execution_count": 30,
   "id": "7dd22026-a8d1-4c37-bac4-a5d3b499b84b",
   "metadata": {},
   "outputs": [
    {
     "name": "stdout",
     "output_type": "stream",
     "text": [
      "Exemple de tri de trois lettres :\n"
     ]
    },
    {
     "name": "stdin",
     "output_type": "stream",
     "text": [
      "Entrer la première lettre :  c\n",
      "Entrer la deuxième lettre :  b\n",
      "Entrer la troisième lettre :  a\n"
     ]
    },
    {
     "name": "stdout",
     "output_type": "stream",
     "text": [
      "Lettres triées : a b c\n"
     ]
    }
   ],
   "source": [
    "#page 72\n",
    "\"\"\"\n",
    "\"\"\"\n",
    "\n",
    "\n",
    "def echanger(x: str, y: str) -> tuple[str, str]:\n",
    "    aux = x\n",
    "    x = y\n",
    "    y = aux\n",
    "    return x, y\n",
    "\n",
    "def classer(a: str, b: str) -> tuple[str, str]:\n",
    "    if a > b:\n",
    "        return echanger(a, b) \n",
    "    return a, b\n",
    "\n",
    "\n",
    "def tri_lettres():\n",
    "    c1 = input(\"Entrer la première lettre : \")\n",
    "    c2 = input(\"Entrer la deuxième lettre : \")\n",
    "    c3 = input(\"Entrer la troisième lettre : \")\n",
    "\n",
    " \n",
    "    c1, c2 = classer(c1, c2)\n",
    "  \n",
    "    c2, c3 = classer(c2, c3)\n",
    "    \n",
    "    c1, c2 = classer(c1, c2)\n",
    "\n",
    "    print(\"Lettres triées :\", c1, c2, c3)\n",
    "\n",
    "    \n",
    "print(\"Exemple de tri de trois lettres :\")\n",
    "tri_lettres()"
   ]
  }
 ],
 "metadata": {
  "kernelspec": {
   "display_name": "Python 3 (ipykernel)",
   "language": "python",
   "name": "python3"
  },
  "language_info": {
   "codemirror_mode": {
    "name": "ipython",
    "version": 3
   },
   "file_extension": ".py",
   "mimetype": "text/x-python",
   "name": "python",
   "nbconvert_exporter": "python",
   "pygments_lexer": "ipython3",
   "version": "3.13.5"
  }
 },
 "nbformat": 4,
 "nbformat_minor": 5
}
