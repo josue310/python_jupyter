{
 "cells": [
  {
   "cell_type": "code",
   "execution_count": null,
   "id": "16ca7790-5922-44dd-bd83-2d5caf2f6b30",
   "metadata": {},
   "outputs": [],
   "source": [
    "def fonction_recursive(parametres):\n",
    "    if condition_arret:\n",
    "        return valeur_de_retour\n",
    "    \n",
    "    return fonction_recursive(nouveaux_parametres)\n"
   ]
  },
  {
   "cell_type": "code",
   "execution_count": 8,
   "id": "9b63e5e8-2e0c-46a5-be9d-6d53cab73678",
   "metadata": {},
   "outputs": [],
   "source": [
    "def factorielle(nb) -> int:\n",
    "    if nb == 1: \n",
    "        return 1\n",
    "    else:\n",
    "        return nb * factorielle(nb - 1)\n"
   ]
  },
  {
   "cell_type": "code",
   "execution_count": 9,
   "id": "2fb5a34d-c1a8-43a4-92aa-7c3a7c1d60f8",
   "metadata": {},
   "outputs": [],
   "source": [
    "def chercher(t: list[int], taille: int, valeur: int, debut: int) -> int:\n",
    "    if debut >= taille:\n",
    "        return -1\n",
    "    if t[debut] == valeur:\n",
    "        return debut\n",
    "    return chercher(t, taille, valeur, debut + 1)\n"
   ]
  },
  {
   "cell_type": "code",
   "execution_count": 10,
   "id": "97134615-d960-4685-829e-0679022348a4",
   "metadata": {},
   "outputs": [],
   "source": [
    "def fibonacci(n: int) -> int:\n",
    "    if n == 0:  \n",
    "        return 0\n",
    "    elif n == 1: \n",
    "        return 1\n",
    "    else:  \n",
    "        return fibonacci(n - 1) + fibonacci(n - 2)\n"
   ]
  },
  {
   "cell_type": "code",
   "execution_count": 11,
   "id": "e74c75af-dbd8-4ffa-9893-3182b9fc216a",
   "metadata": {},
   "outputs": [],
   "source": [
    "def max2(a: int, b: int) -> int:\n",
    "    if a > b:\n",
    "        return a\n",
    "    else:\n",
    "        return b\n",
    "def max3(a: int, b: int, c: int) -> int:\n",
    "    return max2(max2(a, b), c)  \n"
   ]
  },
  {
   "cell_type": "code",
   "execution_count": 13,
   "id": "27934552-d314-4ff0-b631-3e9ca37f053b",
   "metadata": {},
   "outputs": [],
   "source": [
    "def afficher_inverse(tab: list, debut: int):\n",
    "    if debut < len(tab):  # condition d’arrêt\n",
    "        afficher_inverse_recursif(tab, debut + 1)\n",
    "        print(tab[debut], end=\" \")"
   ]
  },
  {
   "cell_type": "code",
   "execution_count": 14,
   "id": "782bb3f9-2403-48d9-b61d-539bde253d47",
   "metadata": {},
   "outputs": [],
   "source": [
    "import random\n",
    "\n",
    "def deviner_nombre():\n",
    "    secret = random.randint(1, 1000)\n",
    "    trouve = False\n",
    "    \n",
    "    print(\"Devinez le nombre entre 1 et 1000 !\")\n",
    "\n",
    "    while not trouve:\n",
    "        proposition = int(input(\"Votre proposition : \"))\n",
    "\n",
    "        if proposition < secret:\n",
    "            print(\"Trop petit !\")\n",
    "        elif proposition > secret:\n",
    "            print(\"Trop grand !\")\n",
    "        else:\n",
    "            print(\"Bravo ! Vous avez trouvé 🎉\")\n",
    "            trouve = True"
   ]
  },
  {
   "cell_type": "code",
   "execution_count": null,
   "id": "b8cdef17-e1d0-44a2-a95b-5b090dc7bfc6",
   "metadata": {},
   "outputs": [],
   "source": []
  }
 ],
 "metadata": {
  "kernelspec": {
   "display_name": "Python 3 (ipykernel)",
   "language": "python",
   "name": "python3"
  },
  "language_info": {
   "codemirror_mode": {
    "name": "ipython",
    "version": 3
   },
   "file_extension": ".py",
   "mimetype": "text/x-python",
   "name": "python",
   "nbconvert_exporter": "python",
   "pygments_lexer": "ipython3",
   "version": "3.13.5"
  }
 },
 "nbformat": 4,
 "nbformat_minor": 5
}
