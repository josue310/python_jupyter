{
 "cells": [
  {
   "cell_type": "markdown",
   "id": "77ea13cd-93e5-4f44-9d3d-7e5114a95d2b",
   "metadata": {},
   "source": [
    "# TOUT LES ALGOS EN PYTHON"
   ]
  },
  {
   "cell_type": "markdown",
   "id": "37dd9dc2-4c96-497b-901c-af243c6dfa4e",
   "metadata": {},
   "source": [
    "# Pour commencer, nous avons traité les exercices pour lesquels l'instruction \" Traduire l'algorithme en langage C\" était mentionnée"
   ]
  },
  {
   "cell_type": "code",
   "execution_count": 1,
   "id": "e91910f5-91ec-420b-b81f-b76c44ba18e9",
   "metadata": {},
   "outputs": [
    {
     "name": "stdout",
     "output_type": "stream",
     "text": [
      "Bonjour tout  le monde !\n"
     ]
    }
   ],
   "source": [
    "# Page 13, algo nommé \"Salutation\"\n",
    "\"\"\"\n",
    "ALGORITHME salutation\n",
    "DEBUT \n",
    "    ECRIRE (\"Bonjour tout le monde !\")\n",
    "FIN\n",
    "\"\"\"\n",
    "print(\"Bonjour tout  le monde !\")"
   ]
  },
  {
   "cell_type": "code",
   "execution_count": 2,
   "id": "07259f95-7acf-4ed7-89e1-dec5e3247a83",
   "metadata": {},
   "outputs": [
    {
     "name": "stdout",
     "output_type": "stream",
     "text": [
      "Vous devez rembourser 1500.0 FCFA\n"
     ]
    }
   ],
   "source": [
    "# page 15, algo nommé \"RemboursementPret\"\n",
    "\"\"\"\n",
    "ALGORITHME remboursementPret\n",
    "    VARIABLES\n",
    "        somme : REEL\n",
    "        interet : REEL\n",
    "        aremb : REEL\n",
    "DEBUT\n",
    "    somme ← 1000\n",
    "    interet ← (somme * 50) / 100\n",
    "    aremb ← somme + interet\n",
    "    ECRIRE(\"Vous devez rembourser \",aremb,\"FCFA\")\n",
    "FIN\n",
    "\"\"\"\n",
    "somme = 1000\n",
    "interet = (somme * 50) / 100\n",
    "aremb = somme + interet\n",
    "print(f\"Vous devez rembourser {aremb} FCFA\")"
   ]
  },
  {
   "cell_type": "code",
   "execution_count": null,
   "id": "f8f8df14-a2e2-406f-a3fe-d07ea93e30cf",
   "metadata": {},
   "outputs": [],
   "source": []
  },
  {
   "cell_type": "code",
   "execution_count": 3,
   "id": "9e2570fb-db0d-4809-ad52-52edad03d9cc",
   "metadata": {},
   "outputs": [
    {
     "name": "stdin",
     "output_type": "stream",
     "text": [
      "Entrez votre nom :  KOUADIO\n",
      "Entrez votre prenom :  Josué Noël Yao\n",
      "Quel est votre âge ?  20\n"
     ]
    },
    {
     "name": "stdout",
     "output_type": "stream",
     "text": [
      "On vous appelle KOUADIO Josué Noël Yao Vous avez 20 ans\n"
     ]
    }
   ],
   "source": [
    "# page 16, algo nommé \"LectureNomAge\"\n",
    "\"\"\"\n",
    "ALGORITHME LectureNomAge\n",
    "    VARIABLES \n",
    "        nom, prenom : CHAINE\n",
    "        age : ENTIER\n",
    "DEBUT\n",
    "    LIRE (nom, prenom, age)\n",
    "    ECRIRE (\"On vous appelle\", nom,\"\", prenom, \"Vous avez \",age,\"ans\")\n",
    "FIN\n",
    "\"\"\"\n",
    "nom = input(\"Entrez votre nom : \")\n",
    "prenom = input(\"Entrez votre prenom : \")\n",
    "age = int(input(\"Quel est votre âge ? \"))\n",
    "print(f\"On vous appelle {nom} {prenom} Vous avez {age} ans\")"
   ]
  },
  {
   "cell_type": "code",
   "execution_count": 4,
   "id": "d8055ce2-ce04-4562-9516-fd87817f36bf",
   "metadata": {},
   "outputs": [
    {
     "name": "stdin",
     "output_type": "stream",
     "text": [
      "Entrez n1 :  8\n",
      "Entrez n2 :  10\n",
      "Entrez n3 :  18\n"
     ]
    },
    {
     "name": "stdout",
     "output_type": "stream",
     "text": [
      "True\n"
     ]
    }
   ],
   "source": [
    "# Page 27, algo nommé \"Admissibilité\" \n",
    "\"\"\"\n",
    "ALGORITHME admissibilite\n",
    "    VARIABLES \n",
    "        n1, n2, n3 : REEL\n",
    "DEBUT\n",
    "    LIRE (n1, n2, n3)\n",
    "    ECRIRE ( (n1 + n2 + n3) / 3 >= 10 ET NON (n1<5 OU n2<5 OU n3<5))\n",
    "FIN\n",
    "\"\"\"\n",
    "\n",
    "n1 = float(input(\"Entrez n1 : \"))\n",
    "n2 = float(input(\"Entrez n2 : \"))\n",
    "n3 = float(input(\"Entrez n3 : \"))\n",
    "\n",
    "print((n1 + n2 + n3) / 3 >= 10 and not (n1 < 5 or n2 < 5 or n3 < 5))\n"
   ]
  },
  {
   "cell_type": "code",
   "execution_count": 5,
   "id": "85d7bac5-8786-41f3-84d4-a3ecdfdddd19",
   "metadata": {},
   "outputs": [
    {
     "name": "stdout",
     "output_type": "stream",
     "text": [
      "Donnez deux entiers\n"
     ]
    },
    {
     "name": "stdin",
     "output_type": "stream",
     "text": [
      "Entrez le premier entier :  -2\n",
      "Entrez le second entier :  5\n"
     ]
    },
    {
     "name": "stdout",
     "output_type": "stream",
     "text": [
      "Le plus grand des deux nombres -2 et 5 est : 5\n"
     ]
    }
   ],
   "source": [
    "# Page 32, algo nommé \"MaxDeux\" \n",
    "\"\"\"\n",
    "ALGORITHME MaxDeux\n",
    "    VARIABLES \n",
    "        nb1, nb2 : ENTIER\n",
    "        maxi : ENTIER\n",
    "DEBUT\n",
    "    ECRIRE (\"Donnez deux entiers\")\n",
    "    LIRE (nb1, nb2)\n",
    "    SI nb1 > nb2 ALORS\n",
    "        maxi ← nb1\n",
    "    SINON\n",
    "        maxi ← nb2\n",
    "    FINSI\n",
    "    ECRIRE (\"Le plus grand des deux nombres \",nb1, \"et \",nb2, \"est : \",maxi)\n",
    "    \n",
    "FIN\n",
    "\"\"\"\n",
    "\n",
    "print(\"Donnez deux entiers\")\n",
    "nb1 = int(input(\"Entrez le premier entier : \"))\n",
    "nb2 = int(input(\"Entrez le second entier : \"))\n",
    "\n",
    "if nb1 > nb2:\n",
    "    maxi = nb1\n",
    "else:\n",
    "    maxi = nb2\n",
    "print(f\"Le plus grand des deux nombres {nb1} et {nb2} est : {maxi}\")\n",
    "\n"
   ]
  },
  {
   "cell_type": "code",
   "execution_count": 6,
   "id": "bd4133c4-e40d-4604-8066-dff2e360a726",
   "metadata": {},
   "outputs": [
    {
     "name": "stdin",
     "output_type": "stream",
     "text": [
      "Entrez le premier entier :  2\n",
      "Entrez le deuxième entier :  3\n",
      "Entrez le premier entier :  5\n",
      "Entrez le deuxième entier :  3\n",
      "Entrez le premier entier :  10\n",
      "Entrez le deuxième entier :  2\n"
     ]
    },
    {
     "name": "stdout",
     "output_type": "stream",
     "text": [
      "Le nombre de lancée est : 2\n"
     ]
    }
   ],
   "source": [
    "# Page 42, algo nommé \"JeuDeLance\" \n",
    "\"\"\"\n",
    "ALGORITHME JeuDeLance\n",
    "    VARIABLES \n",
    "        nbLancee, d1, d2 : ENTIER\n",
    "DEBUT\n",
    "    nbLancee ← 0\n",
    "    REPETER\n",
    "        LIRE(d1)\n",
    "        LIRE(d2)\n",
    "        nbLancee ← nbLancee + 1\n",
    "    JUSQUA d1 + d2 = 12\n",
    "    ECRIRE (\"Le nombre de lancée est : \", nbLancee)\n",
    "FIN\n",
    "\"\"\"\n",
    "\n",
    "nbLancee = 0\n",
    "d1 = int(input(\"Entrez le premier entier : \"))\n",
    "d2 = int(input(\"Entrez le deuxième entier : \"))\n",
    "while d1 + d2 != 12:\n",
    "    d1 = int(input(\"Entrez le premier entier : \"))\n",
    "    d2 = int(input(\"Entrez le deuxième entier : \"))\n",
    "    nbLancee += 1\n",
    "print(f\"Le nombre de lancée est : {nbLancee}\")"
   ]
  },
  {
   "cell_type": "code",
   "execution_count": 7,
   "id": "a876e193-2c6e-4540-81fc-d32422036b82",
   "metadata": {},
   "outputs": [
    {
     "name": "stdout",
     "output_type": "stream",
     "text": [
      "30\n"
     ]
    }
   ],
   "source": [
    "# Page 44, algo nommé \"SimulationPour\" \n",
    "\"\"\"\n",
    "ALGORITHME SimulationPour\n",
    "    VARIABLES \n",
    "        i, n, s : ENTIER\n",
    "DEBUT\n",
    "    n ← 0\n",
    "    s ← 0\n",
    "    POUR i DE 1 à 3 FAIRE:\n",
    "        n ← n + 5\n",
    "        s ← s + n\n",
    "    FINPOUR\n",
    "    ECRIRE(s)\n",
    "FIN\n",
    "\"\"\"\n",
    "\n",
    "n = 0\n",
    "s = 0\n",
    "for i in range(1,4):\n",
    "    n = n + 5\n",
    "    s = s + n\n",
    "print(s)"
   ]
  },
  {
   "cell_type": "markdown",
   "id": "2cf31ddb-34f0-4e05-aace-e5bdb3c648dc",
   "metadata": {},
   "source": [
    "# Enfin, nous terminons avec tout les autres algorithmes "
   ]
  },
  {
   "cell_type": "code",
   "execution_count": 11,
   "id": "5804fe4d-9c6a-44ec-83c3-75526f8a6518",
   "metadata": {},
   "outputs": [
    {
     "name": "stdin",
     "output_type": "stream",
     "text": [
      "Entrez la valeur du premier nombre  :  5\n",
      "Entrez la valeur du deuxième nombre :  3\n"
     ]
    },
    {
     "name": "stdout",
     "output_type": "stream",
     "text": [
      "La moyenne des deux nombres est : 4.0\n"
     ]
    }
   ],
   "source": [
    "# Page 17\n",
    "\"\"\"\n",
    "Ecrire un algorithme nommé Moyenne bien indenté, qui calcule la moyenne de deux\n",
    "nombres saisis par l’utilisateur, simulé comme suit :\n",
    "\"\"\"\n",
    "\n",
    "a = float(input(\"Entrez la valeur du premier nombre  : \"))\n",
    "b = float(input(\"Entrez la valeur du deuxième nombre : \"))\n",
    "\n",
    "print(f\"La moyenne des deux nombres est : {(a+b)/2}\")"
   ]
  },
  {
   "cell_type": "code",
   "execution_count": 14,
   "id": "ff25eefa-cc3e-4495-b35a-c039845283da",
   "metadata": {},
   "outputs": [
    {
     "name": "stdin",
     "output_type": "stream",
     "text": [
      "Donnez la coordonnée x du premier point 3\n",
      "Donnez la coordonnée y du premier point 8\n",
      "Donnez la coordonnée x du premier point 6\n",
      "Donnez la coordonnée y du premier point 2\n"
     ]
    },
    {
     "name": "stdout",
     "output_type": "stream",
     "text": [
      "Les coordonnées du point milieu sont : 4.5 en abscisse et 5.0 en ordonnée\n"
     ]
    }
   ],
   "source": [
    "# page 17\n",
    "\"\"\"\n",
    "Ecrire un algorithme qui demande à l'utilisateur les coordonnées de 2 points distincts\n",
    "du plan et qui affiche les coordonnées du point milieu.\n",
    "\"\"\"\n",
    "\n",
    "x1 = float(input(\"Donnez la coordonnée x du premier point\"))\n",
    "y1 = float(input(\"Donnez la coordonnée y du premier point\"))\n",
    "\n",
    "x2 = float(input(\"Donnez la coordonnée x du premier point\"))\n",
    "y2 = float(input(\"Donnez la coordonnée y du premier point\"))\n",
    "\n",
    "x_mil = (x1 + x2) / 2\n",
    "y_mil = (y1 + y2) / 2\n",
    "\n",
    "print (f\"Les coordonnées du point milieu sont : {x_mil} en abscisse et {y_mil} en ordonnée\")"
   ]
  },
  {
   "cell_type": "code",
   "execution_count": 15,
   "id": "343137d7-1a92-422b-bdf9-17c0f696ee67",
   "metadata": {},
   "outputs": [
    {
     "name": "stdin",
     "output_type": "stream",
     "text": [
      "Donnez la note numéro 1 :  15\n",
      "Donnez la note numéro 2 :  10\n",
      "Donnez la note numéro 3 :  18\n"
     ]
    },
    {
     "name": "stdout",
     "output_type": "stream",
     "text": [
      "Moyennne des 3 note(s) : 14.333333333333334\n"
     ]
    }
   ],
   "source": [
    "# page 18 Algo CalculDeMoyenne\n",
    "\"\"\"\n",
    "ALGORITHME CalculDeMoyenne\n",
    "    {Cet algorithme calcule la moyenne de N notes. Ici N = 3}\n",
    "\n",
    "    CONSTANTES\n",
    "        N = 3\n",
    "\n",
    "    VARIABLES\n",
    "        Note : REEL\n",
    "        SommeDeNotes : REEL\n",
    "        MoyenneDesNotes : REEL\n",
    "        NombreDeNotesSaisies : ENTIER\n",
    "\n",
    "DEBUT\n",
    "    1 SommeDesNotes ← 0\n",
    "    2 NombreDeNotesSaisies ← 0\n",
    "    3 TANTQUE (NombreDeNotesSaisies < N) FAIRE\n",
    "        4   ECRIRE (\"Note Numéro : \", NombreDeNotesSaisies + 1)\n",
    "        5   LIRE (Note)\n",
    "        6   SommeDesNotes ← SommeDesNotes + Note\n",
    "        7   NombreDeNotesSaisies ← NombreDeNotesSaisies + 1\n",
    "    8 FINTANTQUE\n",
    "    9 MoyenneDesNotes ← SommeDesNotes / N\n",
    "    10 ECRIRE (\"Moyenne des \", N, \"note(s) : \", MoyenneDesNotes)\n",
    "FIN\n",
    "\n",
    "\"\"\"\n",
    "N = 3\n",
    "SommeDesNotes = 0\n",
    "NombreDeNotesSaisies = 0\n",
    "while NombreDeNotesSaisies < N:\n",
    "    Note  = float(input(f\"Donnez la note numéro {NombreDeNotesSaisies + 1} : \"))\n",
    "    SommeDesNotes += Note\n",
    "    NombreDeNotesSaisies += 1\n",
    "MoyenneDesNotes = SommeDesNotes / N\n",
    "print(f\"Moyennne des {N} note(s) : {MoyenneDesNotes}\")\n",
    "    "
   ]
  },
  {
   "cell_type": "code",
   "execution_count": 2,
   "id": "7f5f1db9-c7e6-429c-a3ad-478b78f628c0",
   "metadata": {},
   "outputs": [
    {
     "name": "stdin",
     "output_type": "stream",
     "text": [
      "Donnez une valeur réelle à la variable A :  2\n",
      "Donnez une valeur réelle à la variable B :  3\n"
     ]
    },
    {
     "name": "stdout",
     "output_type": "stream",
     "text": [
      "Ainsi nous constatons que la variable A contient 3.0 et la variable B contient 2.0\n"
     ]
    }
   ],
   "source": [
    "# Page 21 Exercice 5.1\n",
    "\"\"\"\n",
    "Ecrire un algorithme permettant d’échanger les valeurs de deux variables A et B,\n",
    "et ce quel que soit leur contenu préalable.\n",
    "\"\"\"\n",
    "\n",
    "A = float(input(\"Donnez une valeur réelle à la variable A : \"))\n",
    "B = float(input(\"Donnez une valeur réelle à la variable B : \"))\n",
    "\n",
    "A , B = B , A\n",
    "print(f\"Ainsi nous constatons que la variable A contient {A} et la variable B contient {B}\")\n"
   ]
  },
  {
   "cell_type": "code",
   "execution_count": null,
   "id": "f1707376-d370-4e62-9875-edf1e2eab71e",
   "metadata": {},
   "outputs": [],
   "source": [
    "# Page 21 Exercice 5.2\n",
    "\"\"\"\n",
    "On dispose de trois variables A, B et C. Ecrivez un algorithme transférant à A la\n",
    "valeur de B, à B la valeur de C et à C la valeur de A (quels que soient les contenus\n",
    "préalables de ces variables).\n",
    "\"\"\"\n"
   ]
  },
  {
   "cell_type": "code",
   "execution_count": null,
   "id": "ba890f7f-9e1c-4817-86aa-7359a9a167b9",
   "metadata": {},
   "outputs": [],
   "source": [
    "# Page 22 Exercice 6\n",
    "\"\"\"\n",
    "Ecrivez un algorithme qui calcule et affiche la surface et la circonférence d’un cercle\n",
    "(2𝜋𝑅 et 𝑅^2). L’algorithme demandera à l’utilisateur d’entrer la valeur du rayon.\n",
    "\"\"\"\n"
   ]
  },
  {
   "cell_type": "code",
   "execution_count": null,
   "id": "066186b0-e73e-49b1-9a1d-a96791b7494c",
   "metadata": {},
   "outputs": [],
   "source": [
    "# Page 22 Exercice 7\n",
    "\"\"\"\n",
    "Comment calculer le plus rapidement possible x16 ? Calculer x25 avec le minimum\n",
    "de multiplication.\n",
    "\"\"\"\n"
   ]
  },
  {
   "cell_type": "code",
   "execution_count": null,
   "id": "717546c2-adaf-4146-951c-c9f3a8b4a87e",
   "metadata": {},
   "outputs": [],
   "source": [
    "# Page 22 Exercice 9\n",
    "\"\"\"\n",
    "Écrire un algorithme qui effectue la lecture du temps t en seconde, et il affiche le\n",
    "temps t en jours, heure, minutes, secondes. Exemple : si t = 21020 secondes\n",
    "l’algorithme affichera \"0 jours 5 heures 50 minutes et 20 secondes\".\n",
    "\"\"\"\n"
   ]
  },
  {
   "cell_type": "code",
   "execution_count": null,
   "id": "accd1e86-3026-4761-a7ee-9a090bb7d784",
   "metadata": {},
   "outputs": [],
   "source": []
  }
 ],
 "metadata": {
  "kernelspec": {
   "display_name": "Python 3 (ipykernel)",
   "language": "python",
   "name": "python3"
  },
  "language_info": {
   "codemirror_mode": {
    "name": "ipython",
    "version": 3
   },
   "file_extension": ".py",
   "mimetype": "text/x-python",
   "name": "python",
   "nbconvert_exporter": "python",
   "pygments_lexer": "ipython3",
   "version": "3.13.5"
  }
 },
 "nbformat": 4,
 "nbformat_minor": 5
}
