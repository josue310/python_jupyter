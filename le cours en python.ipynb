{
 "cells": [
  {
   "cell_type": "markdown",
   "id": "77ea13cd-93e5-4f44-9d3d-7e5114a95d2b",
   "metadata": {},
   "source": [
    "# TOUT LES ALGOS EN PYTHON"
   ]
  },
  {
   "cell_type": "code",
   "execution_count": 1,
   "id": "e91910f5-91ec-420b-b81f-b76c44ba18e9",
   "metadata": {},
   "outputs": [
    {
     "name": "stdout",
     "output_type": "stream",
     "text": [
      "Bonjour tout  le monde !\n"
     ]
    }
   ],
   "source": [
    "# Page 13, algo nommé \"Salutation\"\n",
    "\"\"\"\n",
    "ALGORITHME salutation\n",
    "DEBUT \n",
    "    ECRIRE (\"Bonjour tout le monde !\")\n",
    "FIN\n",
    "\"\"\"\n",
    "print(\"Bonjour tout  le monde !\")"
   ]
  },
  {
   "cell_type": "code",
   "execution_count": 2,
   "id": "07259f95-7acf-4ed7-89e1-dec5e3247a83",
   "metadata": {},
   "outputs": [
    {
     "name": "stdout",
     "output_type": "stream",
     "text": [
      "Vous devez rembourser 1500.0 FCFA\n"
     ]
    }
   ],
   "source": [
    "# page 15, algo nommé \"RemboursementPret\"\n",
    "\"\"\"\n",
    "ALGORITHME remboursementPret\n",
    "    VARIABLES\n",
    "        somme : REEL\n",
    "        interet : REEL\n",
    "        aremb : REEL\n",
    "DEBUT\n",
    "    somme ← 1000\n",
    "    interet ← (somme * 50) / 100\n",
    "    aremb ← somme + interet\n",
    "    ECRIRE(\"Vous devez rembourser \",aremb,\"FCFA\")\n",
    "FIN\n",
    "\"\"\"\n",
    "somme = 1000\n",
    "interet = (somme * 50) / 100\n",
    "aremb = somme + interet\n",
    "print(f\"Vous devez rembourser {aremb} FCFA\")"
   ]
  },
  {
   "cell_type": "code",
   "execution_count": 3,
   "id": "9e2570fb-db0d-4809-ad52-52edad03d9cc",
   "metadata": {},
   "outputs": [
    {
     "name": "stdin",
     "output_type": "stream",
     "text": [
      "Entrez votre nom :  KOUADIO\n",
      "Entrez votre prenom :  Josué Noël Yao\n",
      "Quel est votre âge ?  20\n"
     ]
    },
    {
     "name": "stdout",
     "output_type": "stream",
     "text": [
      "On vous appelle KOUADIO Josué Noël Yao Vous avez 20 ans\n"
     ]
    }
   ],
   "source": [
    "# page 16, algo nommé \"LectureNomAge\"\n",
    "\"\"\"\n",
    "ALGORITHME LectureNomAge\n",
    "    VARIABLES \n",
    "        nom, prenom : CHAINE\n",
    "        age : ENTIER\n",
    "DEBUT\n",
    "    LIRE (nom, prenom, age)\n",
    "    ECRIRE (\"On vous appelle\", nom,\"\", prenom, \"Vous avez \",age,\"ans\")\n",
    "FIN\n",
    "\"\"\"\n",
    "nom = input(\"Entrez votre nom : \")\n",
    "prenom = input(\"Entrez votre prenom : \")\n",
    "age = int(input(\"Quel est votre âge ? \"))\n",
    "print(f\"On vous appelle {nom} {prenom} Vous avez {age} ans\")"
   ]
  },
  {
   "cell_type": "code",
   "execution_count": null,
   "id": "f8f8df14-a2e2-406f-a3fe-d07ea93e30cf",
   "metadata": {},
   "outputs": [],
   "source": []
  }
 ],
 "metadata": {
  "kernelspec": {
   "display_name": "Python 3 (ipykernel)",
   "language": "python",
   "name": "python3"
  },
  "language_info": {
   "codemirror_mode": {
    "name": "ipython",
    "version": 3
   },
   "file_extension": ".py",
   "mimetype": "text/x-python",
   "name": "python",
   "nbconvert_exporter": "python",
   "pygments_lexer": "ipython3",
   "version": "3.13.5"
  }
 },
 "nbformat": 4,
 "nbformat_minor": 5
}
